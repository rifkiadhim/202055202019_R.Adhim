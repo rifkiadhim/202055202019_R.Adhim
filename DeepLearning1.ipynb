{
  "nbformat": 4,
  "nbformat_minor": 0,
  "metadata": {
    "colab": {
      "provenance": [],
      "mount_file_id": "1zfF0kFsO8gw-OYqeTo1lBPON6peStLMT",
      "authorship_tag": "ABX9TyMsQIvu7TOb/qJuOxuf9iVz",
      "include_colab_link": true
    },
    "kernelspec": {
      "name": "python3",
      "display_name": "Python 3"
    },
    "language_info": {
      "name": "python"
    },
    "accelerator": "GPU",
    "gpuClass": "standard"
  },
  "cells": [
    {
      "cell_type": "markdown",
      "metadata": {
        "id": "view-in-github",
        "colab_type": "text"
      },
      "source": [
        "<a href=\"https://colab.research.google.com/github/rifkiadhim/202055202019_R.Adhim/blob/master/DeepLearning1.ipynb\" target=\"_parent\"><img src=\"https://colab.research.google.com/assets/colab-badge.svg\" alt=\"Open In Colab\"/></a>"
      ]
    },
    {
      "cell_type": "code",
      "execution_count": null,
      "metadata": {
        "id": "_B6VLuCkJpoa",
        "colab": {
          "base_uri": "https://localhost:8080/"
        },
        "outputId": "6e52389c-d982-4687-d2e0-652673ff0073"
      },
      "outputs": [
        {
          "output_type": "stream",
          "name": "stdout",
          "text": [
            "cp: cannot stat 'kaggle.json': No such file or directory\n",
            "chmod: cannot access '/root/.kaggle/kaggle.json': No such file or directory\n"
          ]
        }
      ],
      "source": [
        "!mkdir -p ~/.kaggle\n",
        "!cp kaggle.json ~/.kaggle/\n",
        "!chmod 600 /root/.kaggle/kaggle.json"
      ]
    },
    {
      "cell_type": "code",
      "source": [
        "!mkdir /content/drive/MyDrive/Deep\n",
        "!cp kaggle.json /content/drive/MyDrive/Deep/"
      ],
      "metadata": {
        "id": "Fsc31cRKMTac",
        "colab": {
          "base_uri": "https://localhost:8080/"
        },
        "outputId": "024f2613-c5f6-4d3b-db7d-5e8ac86e317e"
      },
      "execution_count": null,
      "outputs": [
        {
          "output_type": "stream",
          "name": "stdout",
          "text": [
            "mkdir: cannot create directory ‘/content/drive/MyDrive/Deep’: File exists\n",
            "cp: cannot stat 'kaggle.json': No such file or directory\n"
          ]
        }
      ]
    },
    {
      "cell_type": "code",
      "source": [
        "!kaggle datasets list"
      ],
      "metadata": {
        "colab": {
          "base_uri": "https://localhost:8080/"
        },
        "id": "hPH3DIw4M2Mm",
        "outputId": "2adaa40c-4929-4cdb-c42b-77bc6832dd00"
      },
      "execution_count": null,
      "outputs": [
        {
          "output_type": "stream",
          "name": "stdout",
          "text": [
            "Traceback (most recent call last):\n",
            "  File \"/usr/local/bin/kaggle\", line 5, in <module>\n",
            "    from kaggle.cli import main\n",
            "  File \"/usr/local/lib/python3.9/dist-packages/kaggle/__init__.py\", line 23, in <module>\n",
            "    api.authenticate()\n",
            "  File \"/usr/local/lib/python3.9/dist-packages/kaggle/api/kaggle_api_extended.py\", line 164, in authenticate\n",
            "    raise IOError('Could not find {}. Make sure it\\'s located in'\n",
            "OSError: Could not find kaggle.json. Make sure it's located in /root/.kaggle. Or use the environment method.\n"
          ]
        }
      ]
    },
    {
      "cell_type": "code",
      "source": [
        "import keras\n",
        "import numpy as np\n",
        "import pandas as pd\n",
        "from PIL import Image as img"
      ],
      "metadata": {
        "id": "olCraVYePnJF"
      },
      "execution_count": 1,
      "outputs": []
    },
    {
      "cell_type": "code",
      "source": [
        "import glob\n",
        "from tqdm import tqdm\n",
        "import matplotlib.pyplot as plt"
      ],
      "metadata": {
        "id": "vF76NWZkRdoK"
      },
      "execution_count": 2,
      "outputs": []
    },
    {
      "cell_type": "markdown",
      "source": [
        "Change Image Data Format"
      ],
      "metadata": {
        "id": "9ILsjhuERsOJ"
      }
    },
    {
      "cell_type": "code",
      "source": [
        "keras.backend.image_data_format()"
      ],
      "metadata": {
        "colab": {
          "base_uri": "https://localhost:8080/",
          "height": 36
        },
        "id": "tob9KnqbSi2S",
        "outputId": "90334cdc-7435-4de1-957c-97e8b986ea56"
      },
      "execution_count": 3,
      "outputs": [
        {
          "output_type": "execute_result",
          "data": {
            "text/plain": [
              "'channels_last'"
            ],
            "application/vnd.google.colaboratory.intrinsic+json": {
              "type": "string"
            }
          },
          "metadata": {},
          "execution_count": 3
        }
      ]
    },
    {
      "cell_type": "code",
      "source": [
        "keras.backend.set_image_data_format(\"channels_first\")\n",
        "keras.backend.image_data_format()"
      ],
      "metadata": {
        "colab": {
          "base_uri": "https://localhost:8080/",
          "height": 36
        },
        "id": "VMkXj10OSocQ",
        "outputId": "f2b88fc1-e649-4ce4-8b41-7dc63253cc97"
      },
      "execution_count": 4,
      "outputs": [
        {
          "output_type": "execute_result",
          "data": {
            "text/plain": [
              "'channels_first'"
            ],
            "application/vnd.google.colaboratory.intrinsic+json": {
              "type": "string"
            }
          },
          "metadata": {},
          "execution_count": 4
        }
      ]
    },
    {
      "cell_type": "markdown",
      "source": [
        "Import Data"
      ],
      "metadata": {
        "id": "5BDW8NulTASs"
      }
    },
    {
      "cell_type": "code",
      "source": [
        "import zipfile"
      ],
      "metadata": {
        "id": "lLGbMATrS6pN"
      },
      "execution_count": 6,
      "outputs": []
    },
    {
      "cell_type": "code",
      "source": [
        "dataset_zip = zipfile.ZipFile('drive/MyDrive/Deep/train.zip', 'r')\n",
        "\n",
        "dataset_zip.extractall()\n",
        "\n",
        "dataset_zip.close()"
      ],
      "metadata": {
        "id": "pl6PqWjfT9nS"
      },
      "execution_count": 6,
      "outputs": []
    },
    {
      "cell_type": "markdown",
      "source": [
        "Data Preview"
      ],
      "metadata": {
        "id": "OqeCi2sCU6JJ"
      }
    },
    {
      "cell_type": "code",
      "source": [
        "img.open(\"train/dog.10002.jpg\").resize((64, 64)).convert(\"L\")"
      ],
      "metadata": {
        "colab": {
          "base_uri": "https://localhost:8080/",
          "height": 81
        },
        "id": "BpALC9ioUkvt",
        "outputId": "974d7527-1819-4aac-a23b-d495f41dc228"
      },
      "execution_count": null,
      "outputs": [
        {
          "output_type": "execute_result",
          "data": {
            "text/plain": [
              "<PIL.Image.Image image mode=L size=64x64 at 0x7F20752E1A90>"
            ],
            "image/png": "[encoded data removed]"
          },
          "metadata": {},
          "execution_count": 8
        }
      ]
    },
    {
      "cell_type": "code",
      "source": [
        "img.open(\"train/cat.10000.jpg\").resize((64, 64)). convert(\"L\")"
      ],
      "metadata": {
        "colab": {
          "base_uri": "https://localhost:8080/",
          "height": 81
        },
        "id": "1kr7smsQU8Eb",
        "outputId": "4be9d0fc-c598-4172-eeba-f94bf7a2c4a0"
      },
      "execution_count": null,
      "outputs": [
        {
          "output_type": "execute_result",
          "data": {
            "text/plain": [
              "<PIL.Image.Image image mode=L size=64x64 at 0x7F745395B160>"
            ],
            "image/png": "[encoded data removed]"
          },
          "metadata": {},
          "execution_count": 8
        }
      ]
    },
    {
      "cell_type": "markdown",
      "source": [
        "Data Load(for Training)"
      ],
      "metadata": {
        "id": "DXQoO820Vvvr"
      }
    },
    {
      "cell_type": "code",
      "source": [
        "dog_train_list = glob.glob(\"train/dog.*.jpg\")\n",
        "cat_train_list = glob.glob(\"train/cat.*.jpg\")"
      ],
      "metadata": {
        "id": "OmCuf8upVm77"
      },
      "execution_count": 8,
      "outputs": []
    },
    {
      "cell_type": "code",
      "source": [
        "x_train = []\n",
        "\n",
        "for i in tqdm(dog_train_list):\n",
        "           temp = img.open(i).resize((64, 64))\n",
        "           temp = temp.convert(\"L\")\n",
        "\n",
        "           x_train.append((np.array(temp)-np.mean(temp)) / np.std(temp))\n",
        "           x_train.append((np.array(temp.rotate(90))-np.mean(temp)) / np.std(temp))\n",
        "           x_train.append((np.array(temp.rotate(180))-np.mean(temp)) / np.std(temp))\n",
        "           x_train.append((np.array(temp.rotate(270))-np.mean(temp)) / np.std(temp))\n",
        "\n",
        "y_train = np.tile(1, len(dog_train_list)*4)\n",
        "print(\"dog's images loading done\")"
      ],
      "metadata": {
        "colab": {
          "base_uri": "https://localhost:8080/"
        },
        "id": "s0pOPy70VzIi",
        "outputId": "206bda8f-931d-46e8-bbb4-742990b77bd8"
      },
      "execution_count": 9,
      "outputs": [
        {
          "output_type": "stream",
          "name": "stderr",
          "text": [
            "100%|██████████| 12500/12500 [01:12<00:00, 173.04it/s]"
          ]
        },
        {
          "output_type": "stream",
          "name": "stdout",
          "text": [
            "dog's images loading done\n"
          ]
        },
        {
          "output_type": "stream",
          "name": "stderr",
          "text": [
            "\n"
          ]
        }
      ]
    },
    {
      "cell_type": "code",
      "source": [
        "for i in tqdm(cat_train_list):\n",
        "    temp = img.open(i).resize((64, 64))\n",
        "    temp = temp.convert(\"L\")\n",
        "    \n",
        "    x_train.append((np.array(temp) - np.mean(temp)) / np.std(temp))\n",
        "    x_train.append((np.array(temp.rotate(90)) - np.mean(temp)) / np.std(temp))\n",
        "    x_train.append((np.array(temp.rotate(180)) - np.mean(temp)) / np.std(temp))\n",
        "    x_train.append((np.array(temp.rotate(270)) - np.mean(temp)) / np.std(temp))\n",
        "    \n",
        "y_train = np.concatenate((y_train, np.tile(0, len(cat_train_list)*4))).astype(\"uint8\")\n",
        "print(\"cat's images loading is done\")"
      ],
      "metadata": {
        "id": "4xRR43L7V2YB",
        "colab": {
          "base_uri": "https://localhost:8080/"
        },
        "outputId": "396e3e6f-6aaa-4553-ebae-fd288c23a8da"
      },
      "execution_count": 10,
      "outputs": [
        {
          "output_type": "stream",
          "name": "stderr",
          "text": [
            "100%|██████████| 12500/12500 [01:11<00:00, 174.63it/s]"
          ]
        },
        {
          "output_type": "stream",
          "name": "stdout",
          "text": [
            "cat's images loading is done\n"
          ]
        },
        {
          "output_type": "stream",
          "name": "stderr",
          "text": [
            "\n"
          ]
        }
      ]
    },
    {
      "cell_type": "code",
      "source": [
        "a = np.asarray(x_train)\n",
        "x_train = a.reshape(a.shape[0], 1, a.shape[1], a.shape[2])"
      ],
      "metadata": {
        "id": "XMnhV5tXXybp"
      },
      "execution_count": 11,
      "outputs": []
    },
    {
      "cell_type": "code",
      "source": [
        "del(a)"
      ],
      "metadata": {
        "id": "cVGbMUVhJzeW"
      },
      "execution_count": 12,
      "outputs": []
    },
    {
      "cell_type": "code",
      "source": [
        "x_train.shape"
      ],
      "metadata": {
        "colab": {
          "base_uri": "https://localhost:8080/"
        },
        "id": "k9D8DWI0KpWR",
        "outputId": "e8ae0933-6537-4fb3-f16a-6abfcb1a9c3b"
      },
      "execution_count": 13,
      "outputs": [
        {
          "output_type": "execute_result",
          "data": {
            "text/plain": [
              "(100000, 1, 64, 64)"
            ]
          },
          "metadata": {},
          "execution_count": 13
        }
      ]
    },
    {
      "cell_type": "code",
      "source": [
        "LeakyReLU = keras.layers.LeakyReLU(alpha=0.01)"
      ],
      "metadata": {
        "id": "qj3WfSO1LCMh"
      },
      "execution_count": 23,
      "outputs": []
    },
    {
      "cell_type": "code",
      "source": [
        "model = keras.models.Sequential()\n",
        "\n",
        "model.add(keras.layers.Conv2D(filters=32, kernel_size=(2, 2), input_shape=(1, 64, 64)))\n",
        "model.add(LeakyReLU)\n",
        "model.add(keras.layers.Dropout(rate=0.3))\n",
        "\n",
        "model.add(keras.layers.Conv2D(filters=32, kernel_size=(3, 3)))\n",
        "model.add(LeakyReLU)\n",
        "model.add(keras.layers.Dropout(rate=0.3))\n",
        "\n",
        "model.add(keras.layers.Conv2D(filters=64, activation=\"relu\", kernel_size=(3, 3)))\n",
        "model.add(keras.layers.MaxPooling2D(pool_size=(3, 3)))\n",
        "model.add(keras.layers.Dropout(rate=0.3))\n",
        "\n",
        "model.add(keras.layers.Flatten())\n",
        "model.add(keras.layers.Dense(units=12, activation=\"relu\"))\n",
        "model.add(keras.layers.Dense(units=1, activation=\"sigmoid\"))"
      ],
      "metadata": {
        "id": "WeNs-g9fLFq3"
      },
      "execution_count": 25,
      "outputs": []
    },
    {
      "cell_type": "code",
      "source": [
        "model.compile(optimizer=keras.optimizers.SGD(), loss=keras.losses.binary_crossentropy, metrics=[\"binary_accuracy\"])"
      ],
      "metadata": {
        "id": "fWz6BW6iLKBH"
      },
      "execution_count": 26,
      "outputs": []
    },
    {
      "cell_type": "code",
      "source": [
        "model.summary()"
      ],
      "metadata": {
        "colab": {
          "base_uri": "https://localhost:8080/"
        },
        "id": "axMFRePfLNj8",
        "outputId": "979c14e1-858c-431e-e440-961fb5e5479a"
      },
      "execution_count": 27,
      "outputs": [
        {
          "output_type": "stream",
          "name": "stdout",
          "text": [
            "Model: \"sequential\"\n",
            "_________________________________________________________________\n",
            " Layer (type)                Output Shape              Param #   \n",
            "=================================================================\n",
            " conv2d (Conv2D)             (None, 32, 63, 63)        160       \n",
            "                                                                 \n",
            " leaky_re_lu (LeakyReLU)     multiple                  0         \n",
            "                                                                 \n",
            " dropout (Dropout)           (None, 32, 63, 63)        0         \n",
            "                                                                 \n",
            " conv2d_1 (Conv2D)           (None, 32, 61, 61)        9248      \n",
            "                                                                 \n",
            " dropout_1 (Dropout)         (None, 32, 61, 61)        0         \n",
            "                                                                 \n",
            " conv2d_2 (Conv2D)           (None, 64, 59, 59)        18496     \n",
            "                                                                 \n",
            " max_pooling2d (MaxPooling2D  (None, 64, 19, 19)       0         \n",
            " )                                                               \n",
            "                                                                 \n",
            " dropout_2 (Dropout)         (None, 64, 19, 19)        0         \n",
            "                                                                 \n",
            " flatten (Flatten)           (None, 23104)             0         \n",
            "                                                                 \n",
            " dense (Dense)               (None, 12)                277260    \n",
            "                                                                 \n",
            " dense_1 (Dense)             (None, 1)                 13        \n",
            "                                                                 \n",
            "=================================================================\n",
            "Total params: 305,177\n",
            "Trainable params: 305,177\n",
            "Non-trainable params: 0\n",
            "_________________________________________________________________\n"
          ]
        }
      ]
    },
    {
      "cell_type": "code",
      "source": [
        "model.fit(x=x_train, y=y_train, epochs=10, validation_split=0.1, shuffle=True)"
      ],
      "metadata": {
        "colab": {
          "base_uri": "https://localhost:8080/"
        },
        "id": "D9V6z89uLP-k",
        "outputId": "af356391-2eba-4f40-ff6d-007b92e9c180"
      },
      "execution_count": 19,
      "outputs": [
        {
          "output_type": "stream",
          "name": "stdout",
          "text": [
            "Epoch 1/10\n",
            "2813/2813 [==============================] - 49s 14ms/step - loss: 0.6658 - binary_accuracy: 0.5926 - val_loss: 0.6323 - val_binary_accuracy: 0.7279\n",
            "Epoch 2/10\n",
            "2813/2813 [==============================] - 38s 14ms/step - loss: 0.6335 - binary_accuracy: 0.6385 - val_loss: 0.5717 - val_binary_accuracy: 0.7784\n",
            "Epoch 3/10\n",
            "2813/2813 [==============================] - 38s 14ms/step - loss: 0.6219 - binary_accuracy: 0.6532 - val_loss: 0.5504 - val_binary_accuracy: 0.7852\n",
            "Epoch 4/10\n",
            "2813/2813 [==============================] - 37s 13ms/step - loss: 0.6082 - binary_accuracy: 0.6687 - val_loss: 0.4751 - val_binary_accuracy: 0.8624\n",
            "Epoch 5/10\n",
            "2813/2813 [==============================] - 39s 14ms/step - loss: 0.5905 - binary_accuracy: 0.6865 - val_loss: 0.4722 - val_binary_accuracy: 0.8399\n",
            "Epoch 6/10\n",
            "2813/2813 [==============================] - 37s 13ms/step - loss: 0.5713 - binary_accuracy: 0.7051 - val_loss: 0.4733 - val_binary_accuracy: 0.8274\n",
            "Epoch 7/10\n",
            "2813/2813 [==============================] - 39s 14ms/step - loss: 0.5561 - binary_accuracy: 0.7158 - val_loss: 0.7483 - val_binary_accuracy: 0.5435\n",
            "Epoch 8/10\n",
            "2813/2813 [==============================] - 38s 13ms/step - loss: 0.5431 - binary_accuracy: 0.7286 - val_loss: 0.5179 - val_binary_accuracy: 0.7658\n",
            "Epoch 9/10\n",
            "2813/2813 [==============================] - 38s 13ms/step - loss: 0.5312 - binary_accuracy: 0.7352 - val_loss: 0.4613 - val_binary_accuracy: 0.8146\n",
            "Epoch 10/10\n",
            "2813/2813 [==============================] - 37s 13ms/step - loss: 0.5193 - binary_accuracy: 0.7440 - val_loss: 0.4038 - val_binary_accuracy: 0.8562\n"
          ]
        },
        {
          "output_type": "execute_result",
          "data": {
            "text/plain": [
              "<keras.callbacks.History at 0x7f83800aeca0>"
            ]
          },
          "metadata": {},
          "execution_count": 19
        }
      ]
    },
    {
      "cell_type": "code",
      "source": [
        "model.save(\"Dogs_Cats_model_01.h5\")"
      ],
      "metadata": {
        "id": "VrD8X603LU6E"
      },
      "execution_count": null,
      "outputs": []
    },
    {
      "cell_type": "code",
      "source": [
        "model = keras.models.load_model(\"Dogs_Cats_model_01.h5\")"
      ],
      "metadata": {
        "id": "99Zeygi8PUoe",
        "colab": {
          "base_uri": "https://localhost:8080/",
          "height": 345
        },
        "outputId": "2117bb1b-d9cd-4449-c8c9-4a7772301882"
      },
      "execution_count": 21,
      "outputs": [
        {
          "output_type": "error",
          "ename": "OSError",
          "evalue": "ignored",
          "traceback": [
            "\u001b[0;31m---------------------------------------------------------------------------\u001b[0m",
            "\u001b[0;31mOSError\u001b[0m                                   Traceback (most recent call last)",
            "\u001b[0;32m<ipython-input-21-7caae12cda65>\u001b[0m in \u001b[0;36m<cell line: 1>\u001b[0;34m()\u001b[0m\n\u001b[0;32m----> 1\u001b[0;31m \u001b[0mmodel\u001b[0m \u001b[0;34m=\u001b[0m \u001b[0mkeras\u001b[0m\u001b[0;34m.\u001b[0m\u001b[0mmodels\u001b[0m\u001b[0;34m.\u001b[0m\u001b[0mload_model\u001b[0m\u001b[0;34m(\u001b[0m\u001b[0;34m\"Dogs_Cats_model_01.h5\"\u001b[0m\u001b[0;34m)\u001b[0m\u001b[0;34m\u001b[0m\u001b[0;34m\u001b[0m\u001b[0m\n\u001b[0m",
            "\u001b[0;32m/usr/local/lib/python3.9/dist-packages/keras/saving/saving_api.py\u001b[0m in \u001b[0;36mload_model\u001b[0;34m(filepath, custom_objects, compile, safe_mode, **kwargs)\u001b[0m\n\u001b[1;32m    210\u001b[0m \u001b[0;34m\u001b[0m\u001b[0m\n\u001b[1;32m    211\u001b[0m     \u001b[0;31m# Legacy case.\u001b[0m\u001b[0;34m\u001b[0m\u001b[0;34m\u001b[0m\u001b[0m\n\u001b[0;32m--> 212\u001b[0;31m     return legacy_sm_saving_lib.load_model(\n\u001b[0m\u001b[1;32m    213\u001b[0m         \u001b[0mfilepath\u001b[0m\u001b[0;34m,\u001b[0m \u001b[0mcustom_objects\u001b[0m\u001b[0;34m=\u001b[0m\u001b[0mcustom_objects\u001b[0m\u001b[0;34m,\u001b[0m \u001b[0mcompile\u001b[0m\u001b[0;34m=\u001b[0m\u001b[0mcompile\u001b[0m\u001b[0;34m,\u001b[0m \u001b[0;34m**\u001b[0m\u001b[0mkwargs\u001b[0m\u001b[0;34m\u001b[0m\u001b[0;34m\u001b[0m\u001b[0m\n\u001b[1;32m    214\u001b[0m     )\n",
            "\u001b[0;32m/usr/local/lib/python3.9/dist-packages/keras/utils/traceback_utils.py\u001b[0m in \u001b[0;36merror_handler\u001b[0;34m(*args, **kwargs)\u001b[0m\n\u001b[1;32m     68\u001b[0m             \u001b[0;31m# To get the full stack trace, call:\u001b[0m\u001b[0;34m\u001b[0m\u001b[0;34m\u001b[0m\u001b[0m\n\u001b[1;32m     69\u001b[0m             \u001b[0;31m# `tf.debugging.disable_traceback_filtering()`\u001b[0m\u001b[0;34m\u001b[0m\u001b[0;34m\u001b[0m\u001b[0m\n\u001b[0;32m---> 70\u001b[0;31m             \u001b[0;32mraise\u001b[0m \u001b[0me\u001b[0m\u001b[0;34m.\u001b[0m\u001b[0mwith_traceback\u001b[0m\u001b[0;34m(\u001b[0m\u001b[0mfiltered_tb\u001b[0m\u001b[0;34m)\u001b[0m \u001b[0;32mfrom\u001b[0m \u001b[0;32mNone\u001b[0m\u001b[0;34m\u001b[0m\u001b[0;34m\u001b[0m\u001b[0m\n\u001b[0m\u001b[1;32m     71\u001b[0m         \u001b[0;32mfinally\u001b[0m\u001b[0;34m:\u001b[0m\u001b[0;34m\u001b[0m\u001b[0;34m\u001b[0m\u001b[0m\n\u001b[1;32m     72\u001b[0m             \u001b[0;32mdel\u001b[0m \u001b[0mfiltered_tb\u001b[0m\u001b[0;34m\u001b[0m\u001b[0;34m\u001b[0m\u001b[0m\n",
            "\u001b[0;32m/usr/local/lib/python3.9/dist-packages/keras/saving/legacy/save.py\u001b[0m in \u001b[0;36mload_model\u001b[0;34m(filepath, custom_objects, compile, options)\u001b[0m\n\u001b[1;32m    228\u001b[0m                     \u001b[0;32mif\u001b[0m \u001b[0misinstance\u001b[0m\u001b[0;34m(\u001b[0m\u001b[0mfilepath_str\u001b[0m\u001b[0;34m,\u001b[0m \u001b[0mstr\u001b[0m\u001b[0;34m)\u001b[0m\u001b[0;34m:\u001b[0m\u001b[0;34m\u001b[0m\u001b[0;34m\u001b[0m\u001b[0m\n\u001b[1;32m    229\u001b[0m                         \u001b[0;32mif\u001b[0m \u001b[0;32mnot\u001b[0m \u001b[0mtf\u001b[0m\u001b[0;34m.\u001b[0m\u001b[0mio\u001b[0m\u001b[0;34m.\u001b[0m\u001b[0mgfile\u001b[0m\u001b[0;34m.\u001b[0m\u001b[0mexists\u001b[0m\u001b[0;34m(\u001b[0m\u001b[0mfilepath_str\u001b[0m\u001b[0;34m)\u001b[0m\u001b[0;34m:\u001b[0m\u001b[0;34m\u001b[0m\u001b[0;34m\u001b[0m\u001b[0m\n\u001b[0;32m--> 230\u001b[0;31m                             raise IOError(\n\u001b[0m\u001b[1;32m    231\u001b[0m                                 \u001b[0;34mf\"No file or directory found at {filepath_str}\"\u001b[0m\u001b[0;34m\u001b[0m\u001b[0;34m\u001b[0m\u001b[0m\n\u001b[1;32m    232\u001b[0m                             )\n",
            "\u001b[0;31mOSError\u001b[0m: No file or directory found at Dogs_Cats_model_01.h5"
          ]
        }
      ]
    },
    {
      "cell_type": "code",
      "source": [
        "model.fit(x=x_train, y=y_train, epochs=2, validation_split=0.1, shuffle=True)"
      ],
      "metadata": {
        "id": "-T7kGUVpPYbG"
      },
      "execution_count": null,
      "outputs": []
    },
    {
      "cell_type": "code",
      "source": [
        "len(model.history.history[\"binary_accuracy\"])"
      ],
      "metadata": {
        "colab": {
          "base_uri": "https://localhost:8080/"
        },
        "id": "bpNK8ou4PbJj",
        "outputId": "6e741b3c-0f5e-44a6-c3f0-485759c36dab"
      },
      "execution_count": null,
      "outputs": [
        {
          "output_type": "execute_result",
          "data": {
            "text/plain": [
              "2"
            ]
          },
          "metadata": {},
          "execution_count": 22
        }
      ]
    },
    {
      "cell_type": "code",
      "source": [
        "np.arange(1, len(model.history.history[\"binary_accuracy\"])+1, 1)"
      ],
      "metadata": {
        "id": "XfkO0IBFPhJk",
        "colab": {
          "base_uri": "https://localhost:8080/"
        },
        "outputId": "fbaa451c-3d2a-4c81-d154-276f92bab913"
      },
      "execution_count": null,
      "outputs": [
        {
          "output_type": "execute_result",
          "data": {
            "text/plain": [
              "array([1, 2])"
            ]
          },
          "metadata": {},
          "execution_count": 23
        }
      ]
    },
    {
      "cell_type": "code",
      "source": [
        "plt.figure(figsize=(20, 7))\n",
        "plt.subplot(1, 2, 1)\n",
        "plt.plot(model.history.history[\"binary_accuracy\"])\n",
        "plt.plot(model.history.history[\"val_binary_accuracy\"])\n",
        "plt.title(\"Model Accuracy\")\n",
        "plt.ylabel(\"Accuracy\")\n",
        "plt.xlabel(\"Epoch\")\n",
        "plt.legend([\"Train\", \"Val\"], loc=\"upper left\")\n",
        "#plt.xticks(np.arange(0, len(model.history.history[\"binary_accuracy\"]), 1))\n",
        "\n",
        "plt.xticks(np.arange(len(model.history.history[\"binary_accuracy\"])), np.arange(1, len(model.history.history[\"binary_accuracy\"])+1, 1))\n",
        "\n",
        "plt.subplot(1, 2, 2)\n",
        "plt.plot(model.history.history[\"loss\"])\n",
        "plt.plot(model.history.history[\"val_loss\"])\n",
        "plt.title(\"Model Loss\")\n",
        "plt.ylabel(\"Loss\")\n",
        "plt.xlabel(\"Epoch\")\n",
        "plt.legend([\"Train\", \"Val\"], loc=\"upper right\")\n",
        "plt.xticks(np.arange(len(model.history.history[\"loss\"])), np.arange(1, len(model.history.history[\"loss\"])+1, 1))\n",
        "plt.show()"
      ],
      "metadata": {
        "id": "sO3XFN0zPmmN",
        "colab": {
          "base_uri": "https://localhost:8080/",
          "height": 273
        },
        "outputId": "0b1b6bf5-c2cb-4787-e3bc-0b7e729be32a"
      },
      "execution_count": null,
      "outputs": [
        {
          "output_type": "display_data",
          "data": {
            "text/plain": [
              "<Figure size 2000x700 with 2 Axes>"
            ],
            "image/png": "[encoded data removed]"
          },
          "metadata": {}
        }
      ]
    },
    {
      "cell_type": "code",
      "source": [
        "dataset_zip = zipfile.ZipFile('drive/MyDrive/Deep/test1.zip', 'r')\n",
        "\n",
        "dataset_zip.extractall()\n",
        "\n",
        "dataset_zip.close()"
      ],
      "metadata": {
        "id": "xV9CHqfZUrpM"
      },
      "execution_count": 7,
      "outputs": []
    },
    {
      "cell_type": "code",
      "source": [
        "test_list = glob.glob(\"test1/*.jpg\")"
      ],
      "metadata": {
        "id": "3qS0XofgU77j"
      },
      "execution_count": 16,
      "outputs": []
    },
    {
      "cell_type": "code",
      "source": [
        "x_test = []\n",
        "\n",
        "for i in tqdm(test_list):\n",
        "    temp = img.open(i).resize((64, 64))\n",
        "    temp = temp.convert(\"L\")\n",
        "    x_test.append((np.array(temp) - np.mean(temp)) / np.std(temp))\n",
        "print(\"test images loading is done\")"
      ],
      "metadata": {
        "colab": {
          "base_uri": "https://localhost:8080/"
        },
        "id": "2_jTlbIuVBFQ",
        "outputId": "4efb68c5-04d5-406d-c006-e3b8d87801d7"
      },
      "execution_count": 17,
      "outputs": [
        {
          "output_type": "stream",
          "name": "stderr",
          "text": [
            "100%|██████████| 12500/12500 [01:00<00:00, 205.91it/s]"
          ]
        },
        {
          "output_type": "stream",
          "name": "stdout",
          "text": [
            "test images loading is done\n"
          ]
        },
        {
          "output_type": "stream",
          "name": "stderr",
          "text": [
            "\n"
          ]
        }
      ]
    },
    {
      "cell_type": "code",
      "source": [
        "a = np.asarray(x_test)\n",
        "x_test = a.reshape(a.shape[0], 1, a.shape[1], a.shape[2])"
      ],
      "metadata": {
        "id": "_J4iM7vNVIvA"
      },
      "execution_count": 18,
      "outputs": []
    },
    {
      "cell_type": "code",
      "source": [
        "del(a)"
      ],
      "metadata": {
        "id": "bS1HrQLrVJQ-"
      },
      "execution_count": 19,
      "outputs": []
    },
    {
      "cell_type": "code",
      "source": [
        "result = model.predict(x=x_test)"
      ],
      "metadata": {
        "colab": {
          "base_uri": "https://localhost:8080/"
        },
        "id": "GpUwCCnoVqdD",
        "outputId": "16a565df-a258-4b33-ff22-a8495a34d318"
      },
      "execution_count": 28,
      "outputs": [
        {
          "output_type": "stream",
          "name": "stdout",
          "text": [
            "391/391 [==============================] - 9s 4ms/step\n"
          ]
        }
      ]
    },
    {
      "cell_type": "code",
      "source": [
        "idx = []\n",
        "for i in test_list:\n",
        "    idx.append(i[21:-4])"
      ],
      "metadata": {
        "id": "h_jMFBvFVq7K"
      },
      "execution_count": 29,
      "outputs": []
    },
    {
      "cell_type": "code",
      "source": [
        "result = result.reshape(result.shape[0])\n",
        "result[result>0.5] = 1\n",
        "result[result<0.5] = 0"
      ],
      "metadata": {
        "id": "eXQX46pkVtcc"
      },
      "execution_count": 30,
      "outputs": []
    },
    {
      "cell_type": "code",
      "source": [
        "submission = {\"id\": idx, \"label\": result}"
      ],
      "metadata": {
        "id": "UUG7_PANVvsd"
      },
      "execution_count": 31,
      "outputs": []
    },
    {
      "cell_type": "code",
      "source": [
        "pd.DataFrame(submission).to_csv(\"submission.csv\", index=False)"
      ],
      "metadata": {
        "id": "c-2JiI5gVxuN"
      },
      "execution_count": 32,
      "outputs": []
    },
    {
      "cell_type": "code",
      "source": [
        "pd.DataFrame(submission)"
      ],
      "metadata": {
        "colab": {
          "base_uri": "https://localhost:8080/",
          "height": 423
        },
        "id": "sDBhnHhYVz_9",
        "outputId": "fb135819-0461-43ef-8fb7-8504db0b2f0d"
      },
      "execution_count": 33,
      "outputs": [
        {
          "output_type": "execute_result",
          "data": {
            "text/plain": [
              "      id  label\n",
              "0           0.0\n",
              "1           0.0\n",
              "2           0.0\n",
              "3           0.0\n",
              "4           0.0\n",
              "...   ..    ...\n",
              "12495       0.0\n",
              "12496       0.0\n",
              "12497       0.0\n",
              "12498       0.0\n",
              "12499       0.0\n",
              "\n",
              "[12500 rows x 2 columns]"
            ],
            "text/html": [
              "\n",
              "  <div id=\"df-42858080-24b3-47b1-bb26-37dfc05c3458\">\n",
              "    <div class=\"colab-df-container\">\n",
              "      <div>\n",
              "<style scoped>\n",
              "    .dataframe tbody tr th:only-of-type {\n",
              "        vertical-align: middle;\n",
              "    }\n",
              "\n",
              "    .dataframe tbody tr th {\n",
              "        vertical-align: top;\n",
              "    }\n",
              "\n",
              "    .dataframe thead th {\n",
              "        text-align: right;\n",
              "    }\n",
              "</style>\n",
              "<table border=\"1\" class=\"dataframe\">\n",
              "  <thead>\n",
              "    <tr style=\"text-align: right;\">\n",
              "      <th></th>\n",
              "      <th>id</th>\n",
              "      <th>label</th>\n",
              "    </tr>\n",
              "  </thead>\n",
              "  <tbody>\n",
              "    <tr>\n",
              "      <th>0</th>\n",
              "      <td></td>\n",
              "      <td>0.0</td>\n",
              "    </tr>\n",
              "    <tr>\n",
              "      <th>1</th>\n",
              "      <td></td>\n",
              "      <td>0.0</td>\n",
              "    </tr>\n",
              "    <tr>\n",
              "      <th>2</th>\n",
              "      <td></td>\n",
              "      <td>0.0</td>\n",
              "    </tr>\n",
              "    <tr>\n",
              "      <th>3</th>\n",
              "      <td></td>\n",
              "      <td>0.0</td>\n",
              "    </tr>\n",
              "    <tr>\n",
              "      <th>4</th>\n",
              "      <td></td>\n",
              "      <td>0.0</td>\n",
              "    </tr>\n",
              "    <tr>\n",
              "      <th>...</th>\n",
              "      <td>...</td>\n",
              "      <td>...</td>\n",
              "    </tr>\n",
              "    <tr>\n",
              "      <th>12495</th>\n",
              "      <td></td>\n",
              "      <td>0.0</td>\n",
              "    </tr>\n",
              "    <tr>\n",
              "      <th>12496</th>\n",
              "      <td></td>\n",
              "      <td>0.0</td>\n",
              "    </tr>\n",
              "    <tr>\n",
              "      <th>12497</th>\n",
              "      <td></td>\n",
              "      <td>0.0</td>\n",
              "    </tr>\n",
              "    <tr>\n",
              "      <th>12498</th>\n",
              "      <td></td>\n",
              "      <td>0.0</td>\n",
              "    </tr>\n",
              "    <tr>\n",
              "      <th>12499</th>\n",
              "      <td></td>\n",
              "      <td>0.0</td>\n",
              "    </tr>\n",
              "  </tbody>\n",
              "</table>\n",
              "<p>12500 rows × 2 columns</p>\n",
              "</div>\n",
              "      <button class=\"colab-df-convert\" onclick=\"convertToInteractive('df-42858080-24b3-47b1-bb26-37dfc05c3458')\"\n",
              "              title=\"Convert this dataframe to an interactive table.\"\n",
              "              style=\"display:none;\">\n",
              "        \n",
              "  <svg xmlns=\"http://www.w3.org/2000/svg\" height=\"24px\"viewBox=\"0 0 24 24\"\n",
              "       width=\"24px\">\n",
              "    <path d=\"M0 0h24v24H0V0z\" fill=\"none\"/>\n",
              "    <path d=\"M18.56 5.44l.94 2.06.94-2.06 2.06-.94-2.06-.94-.94-2.06-.94 2.06-2.06.94zm-11 1L8.5 8.5l.94-2.06 2.06-.94-2.06-.94L8.5 2.5l-.94 2.06-2.06.94zm10 10l.94 2.06.94-2.06 2.06-.94-2.06-.94-.94-2.06-.94 2.06-2.06.94z\"/><path d=\"M17.41 7.96l-1.37-1.37c-.4-.4-.92-.59-1.43-.59-.52 0-1.04.2-1.43.59L10.3 9.45l-7.72 7.72c-.78.78-.78 2.05 0 2.83L4 21.41c.39.39.9.59 1.41.59.51 0 1.02-.2 1.41-.59l7.78-7.78 2.81-2.81c.8-.78.8-2.07 0-2.86zM5.41 20L4 18.59l7.72-7.72 1.47 1.35L5.41 20z\"/>\n",
              "  </svg>\n",
              "      </button>\n",
              "      \n",
              "  <style>\n",
              "    .colab-df-container {\n",
              "      display:flex;\n",
              "      flex-wrap:wrap;\n",
              "      gap: 12px;\n",
              "    }\n",
              "\n",
              "    .colab-df-convert {\n",
              "      background-color: #E8F0FE;\n",
              "      border: none;\n",
              "      border-radius: 50%;\n",
              "      cursor: pointer;\n",
              "      display: none;\n",
              "      fill: #1967D2;\n",
              "      height: 32px;\n",
              "      padding: 0 0 0 0;\n",
              "      width: 32px;\n",
              "    }\n",
              "\n",
              "    .colab-df-convert:hover {\n",
              "      background-color: #E2EBFA;\n",
              "      box-shadow: 0px 1px 2px rgba(60, 64, 67, 0.3), 0px 1px 3px 1px rgba(60, 64, 67, 0.15);\n",
              "      fill: #174EA6;\n",
              "    }\n",
              "\n",
              "    [theme=dark] .colab-df-convert {\n",
              "      background-color: #3B4455;\n",
              "      fill: #D2E3FC;\n",
              "    }\n",
              "\n",
              "    [theme=dark] .colab-df-convert:hover {\n",
              "      background-color: #434B5C;\n",
              "      box-shadow: 0px 1px 3px 1px rgba(0, 0, 0, 0.15);\n",
              "      filter: drop-shadow(0px 1px 2px rgba(0, 0, 0, 0.3));\n",
              "      fill: #FFFFFF;\n",
              "    }\n",
              "  </style>\n",
              "\n",
              "      <script>\n",
              "        const buttonEl =\n",
              "          document.querySelector('#df-42858080-24b3-47b1-bb26-37dfc05c3458 button.colab-df-convert');\n",
              "        buttonEl.style.display =\n",
              "          google.colab.kernel.accessAllowed ? 'block' : 'none';\n",
              "\n",
              "        async function convertToInteractive(key) {\n",
              "          const element = document.querySelector('#df-42858080-24b3-47b1-bb26-37dfc05c3458');\n",
              "          const dataTable =\n",
              "            await google.colab.kernel.invokeFunction('convertToInteractive',\n",
              "                                                     [key], {});\n",
              "          if (!dataTable) return;\n",
              "\n",
              "          const docLinkHtml = 'Like what you see? Visit the ' +\n",
              "            '<a target=\"_blank\" href=https://colab.research.google.com/notebooks/data_table.ipynb>data table notebook</a>'\n",
              "            + ' to learn more about interactive tables.';\n",
              "          element.innerHTML = '';\n",
              "          dataTable['output_type'] = 'display_data';\n",
              "          await google.colab.output.renderOutput(dataTable, element);\n",
              "          const docLink = document.createElement('div');\n",
              "          docLink.innerHTML = docLinkHtml;\n",
              "          element.appendChild(docLink);\n",
              "        }\n",
              "      </script>\n",
              "    </div>\n",
              "  </div>\n",
              "  "
            ]
          },
          "metadata": {},
          "execution_count": 33
        }
      ]
    }
  ]
}